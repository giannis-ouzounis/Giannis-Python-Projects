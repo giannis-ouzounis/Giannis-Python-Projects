{
 "cells": [
  {
   "cell_type": "code",
   "execution_count": 7,
   "id": "21315d88-1420-4511-bdca-44a1938ee5e8",
   "metadata": {},
   "outputs": [],
   "source": [
    "# This script allows the user to extract all tracked changes to a new Word file. \n",
    "# Input file: a DOCX file with tracked changes\n",
    "# Output file: a DOCX file ONLY with the clean text from tracked changes from the input file "
   ]
  },
  {
   "cell_type": "code",
   "execution_count": null,
   "id": "6562121d-6244-4be3-8185-6aee589bb827",
   "metadata": {},
   "outputs": [],
   "source": [
    "pip install python-docx"
   ]
  },
  {
   "cell_type": "code",
   "execution_count": null,
   "id": "beeeca40-f123-490c-9059-69cae1152359",
   "metadata": {},
   "outputs": [],
   "source": [
    "import zipfile\n",
    "from lxml import etree\n",
    "from docx import Document"
   ]
  },
  {
   "cell_type": "code",
   "execution_count": 2,
   "id": "86267e90-e7d8-454a-9f55-4e5c56acc37d",
   "metadata": {},
   "outputs": [],
   "source": [
    "def extract_insertions_from_docx(docx_path):\n",
    "    insertions = []\n",
    "    # Open the DOCX file as a ZIP archive\n",
    "    with zipfile.ZipFile(docx_path, 'r') as docx:\n",
    "        # Read the main document part XML\n",
    "        with docx.open('word/document.xml') as document_xml:\n",
    "            xml_content = document_xml.read()\n",
    "            tree = etree.XML(xml_content)\n",
    "            # Namespace dictionary to handle XML namespaces\n",
    "            namespaces = {'w': 'http://schemas.openxmlformats.org/wordprocessingml/2006/main'}\n",
    "            # Find all <w:ins> elements in the document\n",
    "            for ins in tree.findall('.//w:ins', namespaces):\n",
    "                # Extract the text contained in the <w:ins> element\n",
    "                ins_text = ''.join(ins.itertext())\n",
    "                if ins_text.strip():  # Only capture non-empty insertions\n",
    "                    insertions.append(ins_text)\n",
    "                    print(f\"Found insertion: {ins_text}\")  # Debug statement\n",
    "\n",
    "    return insertions"
   ]
  },
  {
   "cell_type": "code",
   "execution_count": null,
   "id": "68714ad7-81e5-402c-bc00-e7cb95756cde",
   "metadata": {},
   "outputs": [],
   "source": [
    "def save_insertions_to_docx(insertions, output_path):\n",
    "    # Create a new Document\n",
    "    new_doc = Document()\n",
    "    # Add each insertion as a new paragraph\n",
    "    for insertion in insertions:\n",
    "        new_doc.add_paragraph(insertion)\n",
    "    # Save the new document\n",
    "    new_doc.save(output_path)\n",
    "\n",
    "# Path to your DOCX file\n",
    "doc_path = 'C:/Users/User/uploaded_file.docx'\n",
    "insertions = extract_insertions_from_docx(doc_path)\n",
    "\n",
    "# Path to the output DOCX file\n",
    "output_doc_path = 'insertions_only.docx'\n",
    "save_insertions_to_docx(insertions, output_doc_path)\n",
    "\n",
    "print(f\"Insertions have been extracted and saved to '{output_doc_path}'\")"
   ]
  }
 ],
 "metadata": {
  "kernelspec": {
   "display_name": "Python 3 (ipykernel)",
   "language": "python",
   "name": "python3"
  },
  "language_info": {
   "codemirror_mode": {
    "name": "ipython",
    "version": 3
   },
   "file_extension": ".py",
   "mimetype": "text/x-python",
   "name": "python",
   "nbconvert_exporter": "python",
   "pygments_lexer": "ipython3",
   "version": "3.11.7"
  }
 },
 "nbformat": 4,
 "nbformat_minor": 5
}
