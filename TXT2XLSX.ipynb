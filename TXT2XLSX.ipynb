{
 "cells": [
  {
   "cell_type": "code",
   "execution_count": 1,
   "id": "fbffaa0e",
   "metadata": {},
   "outputs": [],
   "source": [
    "# This script allows the user to convert TXT glossaries into two-column XLSX glossaries.\n",
    "# It also adds a third column \"admitted\" or \"preferred\" depending on the input file name.\n",
    "# Customer provides these TXT files and this script prepares them for import into Verifika.\n",
    "# Input file: Tab delimeted TXT files\n",
    "# Output file: XLSX with three columns: lang1/lang2/note"
   ]
  },
  {
   "cell_type": "code",
   "execution_count": null,
   "id": "d35026e9-f026-4c0c-a958-b2fc02163dd8",
   "metadata": {},
   "outputs": [],
   "source": [
    "import pandas as pd\n",
    "import glob\n",
    "import os"
   ]
  },
  {
   "cell_type": "code",
   "execution_count": null,
   "id": "fe574459-f098-4abb-81db-b017917ee583",
   "metadata": {},
   "outputs": [],
   "source": [
    "# Define the directory path\n",
    "directory_path = r'C:\\Users\\User\\TXT2XLSX'\n",
    "\n",
    "# Find all TXT files in the directory\n",
    "txt_files = glob.glob(os.path.join(directory_path, '*.txt'))\n",
    "\n",
    "# Check if any TXT files were found\n",
    "if not txt_files:\n",
    "    print(f\"No TXT files found in {directory_path}\")\n",
    "else:\n",
    "    # Process each TXT file\n",
    "    for txt_file in txt_files:\n",
    "        try:\n",
    "            print(f\"Processing file: {txt_file}\")\n",
    "            data = []\n",
    "            # Read the text file\n",
    "            with open(txt_file, 'r', encoding='utf-8') as file:\n",
    "                for line in file:\n",
    "                    # Split the line by tab character to get two columns\n",
    "                    columns = line.strip().split('\\t')\n",
    "                    if len(columns) == 2:\n",
    "                        data.append(columns)\n",
    "            \n",
    "            # Determine the value for Column C based on the filename\n",
    "            if 'admitted' in txt_file:\n",
    "                column_c_value = 'admitted'\n",
    "            elif 'preferred' in txt_file:\n",
    "                column_c_value = 'preferred'\n",
    "            else:\n",
    "                column_c_value = ''\n",
    "\n",
    "            # Create a DataFrame\n",
    "            df = pd.DataFrame(data)\n",
    "            \n",
    "            # Add the new column with the appropriate value\n",
    "            df['Column C'] = column_c_value\n",
    "            \n",
    "            # Define the output file path (same directory, replacing .txt with .xlsx)\n",
    "            output_file_path = os.path.splitext(txt_file)[0] + '.xlsx'\n",
    "            print(f\"Saving to: {output_file_path}\")\n",
    "            \n",
    "            # Save the DataFrame to an XLSX file without headers\n",
    "            df.to_excel(output_file_path, index=False, header=False)\n",
    "            print(f\"Successfully saved: {output_file_path}\")\n",
    "        except Exception as e:\n",
    "            print(f\"Failed to process file {txt_file}. Error: {e}\")\n",
    "\n",
    "    print(\"All TXT files have been processed.\")"
   ]
  }
 ],
 "metadata": {
  "kernelspec": {
   "display_name": "Python 3 (ipykernel)",
   "language": "python",
   "name": "python3"
  },
  "language_info": {
   "codemirror_mode": {
    "name": "ipython",
    "version": 3
   },
   "file_extension": ".py",
   "mimetype": "text/x-python",
   "name": "python",
   "nbconvert_exporter": "python",
   "pygments_lexer": "ipython3",
   "version": "3.11.7"
  }
 },
 "nbformat": 4,
 "nbformat_minor": 5
}
